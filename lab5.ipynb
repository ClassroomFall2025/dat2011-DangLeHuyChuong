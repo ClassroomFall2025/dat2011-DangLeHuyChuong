{
 "cells": [
  {
   "cell_type": "markdown",
   "id": "fdeff819",
   "metadata": {},
   "source": [
    "# Sinh Viên thực hiện Lab 5 ở Đây"
   ]
  },
  {
   "cell_type": "markdown",
   "id": "acc5d7dc",
   "metadata": {},
   "source": [
    "## Lab 5 - Bài 1"
   ]
  },
  {
   "cell_type": "code",
   "execution_count": 1,
   "id": "001e0507",
   "metadata": {},
   "outputs": [
    {
     "name": "stdout",
     "output_type": "stream",
     "text": [
      "Tên sản phẩm: Máy tính\n",
      "Đơn giá: 500000.0\n",
      "Giảm giá: 0.0\n",
      "Thuế nhập khẩu: 50000.0\n"
     ]
    }
   ],
   "source": [
    "# Code lab 5 bài 1 ở đây\n",
    "from sanpham import SanPham\n",
    "ten = input(\"Nhập tên sản phẩm: \")\n",
    "gia = float(input(\"Nhập đơn giá: \"))\n",
    "giam_gia = float(input(\"Nhập số tiền giảm giá: \"))\n",
    "sp = SanPham(ten, gia, giam_gia)\n",
    "sp.xuat_thong_tin()\n",
    "\n"
   ]
  },
  {
   "cell_type": "markdown",
   "id": "c0835310",
   "metadata": {},
   "source": [
    "## Lab 5 - Bài 2"
   ]
  },
  {
   "cell_type": "code",
   "execution_count": null,
   "id": "fa9cb39f",
   "metadata": {},
   "outputs": [
    {
     "name": "stdout",
     "output_type": "stream",
     "text": [
      "Nhập thông tin sản phẩm 1: \n",
      "\n",
      " Nhập thông tin sản phẩm 2: \n",
      "\n",
      " Thông tin sản phẩm: \n",
      "Tên sản phẩm: t\n",
      "Đơn giá: 100.0\n",
      "Giảm giá: 1.0\n",
      "Thuế nhập khẩu: 10.0\n",
      "Tên sản phẩm: r\n",
      "Đơn giá: 1000.0\n",
      "Giảm giá: 20.0\n",
      "Thuế nhập khẩu: 100.0\n"
     ]
    }
   ],
   "source": [
    "# Code lab 5  bài 2 ở đây\n",
    "from sanpham import SanPham\n",
    "sp1 = SanPham()\n",
    "sp2 = SanPham()\n",
    "print(\"Nhập thông tin sản phẩm 1: \")\n",
    "sp1.nhap()\n",
    "print(\"\\nNhập thông tin sản phẩm 2: \")\n",
    "sp2.nhap()\n",
    "print(\"\\nThông tin sản phẩm: \")\n",
    "sp1.xuat_thong_tin()\n",
    "sp2.xuat_thong_tin()\n"
   ]
  },
  {
   "cell_type": "markdown",
   "id": "0f2483fe",
   "metadata": {},
   "source": [
    "## Lab 5 - Bài 3"
   ]
  },
  {
   "cell_type": "code",
   "execution_count": null,
   "id": "7034990b",
   "metadata": {},
   "outputs": [
    {
     "name": "stdout",
     "output_type": "stream",
     "text": [
      "=== NHẬP THÔNG TIN SẢN PHẨM 1 ===\n",
      "\n",
      "=== NHẬP THÔNG TIN SẢN PHẨM 2 ===\n",
      "\n",
      "=== DANH SÁCH SẢN PHẨM ===\n",
      "Tên sản phẩm: Vòng tay\n",
      "Đơn giá: 400000.0\n",
      "Giảm giá: 200000.0\n",
      "Thuế nhập khẩu: 40000.0\n",
      "Tên sản phẩm: Laptop\n",
      "Đơn giá: 12000000.0\n",
      "Giảm giá: 1000000.0\n",
      "Thuế nhập khẩu: 1200000.0\n",
      "\n",
      "=== KIỂM TRA PROPERTY ===\n",
      "Tên sản phẩm 1: Vòng tay\n",
      "Tên sản phẩm 2 sau khi thay đổi: Điện thoại iPhone 15\n"
     ]
    }
   ],
   "source": [
    "# Code lab 5  bài 3 ở đây\n",
    "from sanpham import SanPham\n",
    "\n",
    "# Tạo 2 sản phẩm và nhập thông tin\n",
    "print(\"=== NHẬP THÔNG TIN SẢN PHẨM 1 ===\")\n",
    "sp1 = SanPham()\n",
    "sp1.nhap()\n",
    "\n",
    "print(\"\\n=== NHẬP THÔNG TIN SẢN PHẨM 2 ===\")\n",
    "sp2 = SanPham()\n",
    "sp2.nhap()\n",
    "\n",
    "# Xuất thông tin\n",
    "print(\"\\n=== DANH SÁCH SẢN PHẨM ===\")\n",
    "sp1.xuat_thong_tin()\n",
    "sp2.xuat_thong_tin()\n",
    "\n",
    "# Kiểm tra getter / setter với property\n",
    "print(\"\\nKIỂM TRA PROPERTY\")\n",
    "print(\"Tên sản phẩm 1:\", sp1.ten)\n",
    "sp2.ten = \"Điện thoại iPhone 15\"\n",
    "print(\"Tên sản phẩm 2 sau khi thay đổi:\", sp2.ten)\n",
    "\n"
   ]
  },
  {
   "cell_type": "markdown",
   "id": "d36ea3d3",
   "metadata": {},
   "source": [
    "## Lab 5 - Bài 4"
   ]
  },
  {
   "cell_type": "code",
   "execution_count": 3,
   "id": "4c707ec1",
   "metadata": {},
   "outputs": [
    {
     "name": "stdout",
     "output_type": "stream",
     "text": [
      "Nhập thông tin sản phẩm 1: \n",
      "\n",
      "Nhập thông tin sản phẩm 2:\n",
      "\n",
      "Danh sách sản phẩm\n",
      "Tên sản phẩm: Laptop\n",
      "Đơn giá: 12000000.0\n",
      "Giảm giá: 1000000.0\n",
      "Thuế nhập khẩu: 1200000.0\n",
      "Tên sản phẩm: Vòng tay\n",
      "Đơn giá: 320000.0\n",
      "Giảm giá: 100000.0\n",
      "Thuế nhập khẩu: 32000.0\n"
     ]
    }
   ],
   "source": [
    "# code lab 5 bài 4 ở đây\n",
    "from sanpham import SanPham\n",
    "print(\"Nhập thông tin sản phẩm 1: \")\n",
    "ten1 = input(\"Tên sản phẩm 1: \")\n",
    "gia1 = float(input(\"Giá sản phẩm 1: \"))\n",
    "giam_gia1 = float(input(\"Giảm giá sản phẩm 1: \"))\n",
    "print(\"\\nNhập thông tin sản phẩm 2:\")\n",
    "ten2 = input(\"Tên sản phẩm 2: \")\n",
    "gia2 = float(input(\"Giá sản phẩm 2: \"))\n",
    "giam_gia2 = float(input(\"Giảm giá sản phẩm 2: \"))\n",
    "sp1 = SanPham(ten1, gia1, giam_gia1)\n",
    "sp2 = SanPham(ten2, gia2, giam_gia2)\n",
    "print(\"\\nDanh sách sản phẩm\")\n",
    "sp1.xuat_thong_tin()\n",
    "sp2.xuat_thong_tin()\n"
   ]
  },
  {
   "cell_type": "markdown",
   "id": "e2b41d4a",
   "metadata": {},
   "source": [
    "## Lab 5 - Bài 5: bài tập làm thêm"
   ]
  },
  {
   "cell_type": "code",
   "execution_count": null,
   "id": "0e0172f7",
   "metadata": {},
   "outputs": [],
   "source": [
    "# code lab 5  bài làm thêm ở đây "
   ]
  }
 ],
 "metadata": {
  "kernelspec": {
   "display_name": "Python (ten_env)",
   "language": "python",
   "name": "ten_env"
  },
  "language_info": {
   "codemirror_mode": {
    "name": "ipython",
    "version": 3
   },
   "file_extension": ".py",
   "mimetype": "text/x-python",
   "name": "python",
   "nbconvert_exporter": "python",
   "pygments_lexer": "ipython3",
   "version": "3.13.7"
  }
 },
 "nbformat": 4,
 "nbformat_minor": 5
}
