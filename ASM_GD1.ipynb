{
 "cells": [
  {
   "cell_type": "code",
   "execution_count": 4,
   "id": "a7bbfccd",
   "metadata": {},
   "outputs": [],
   "source": [
    "import ASM_GD1\n",
    "def main():\n",
    "    while True:\n",
    "        print(\"\\n====== MENU QUẢN LÝ NHÂN VIÊN ======\")\n",
    "        print(\"1. Nhập danh sách nhân viên và lưu vào file\")\n",
    "        print(\"2. Đọc thông tin nhân viên từ file và xuất ra màn hình\")\n",
    "        print(\"3. Tìm và hiển thị nhân viên theo mã\")\n",
    "        print(\"4. Xóa nhân viên theo mã\")\n",
    "        print(\"5. Cập nhật thông tin nhân viên\")\n",
    "        print(\"6. Tìm nhân viên theo khoảng lương\")\n",
    "        print(\"7. Sắp xếp nhân viên theo họ và tên\")\n",
    "        print(\"8. Sắp xếp nhân viên theo thu nhập\")\n",
    "        print(\"9. Xuất 5 nhân viên có thu nhập cao nhất\")\n",
    "        print(\"0. Thoát chương trình\")\n",
    "\n",
    "        chon = input(\"Nhập lựa chọn của bạn (0-9): \")\n",
    "\n",
    "        if chon == '1':\n",
    "            ASM_GD1.nhap_danh_sach_nv()\n",
    "        elif chon == '2':\n",
    "            ASM_GD1.doc_file_nv()\n",
    "        elif chon == '3':\n",
    "            ASM_GD1.tim_nv_theo_ma()\n",
    "        elif chon == '4':\n",
    "            ASM_GD1.xoa_nv_theo_ma()\n",
    "        elif chon == '5':\n",
    "            ASM_GD1.cap_nhat_nv()\n",
    "        elif chon == '6':\n",
    "            ASM_GD1.tim_nv_theo_khoang_luong()\n",
    "        elif chon == '7':\n",
    "            ASM_GD1.sap_xep_theo_ho_ten()\n",
    "        elif chon == '8':\n",
    "            ASM_GD1.sap_xep_theo_thu_nhap()\n",
    "        elif chon == '9':\n",
    "            ASM_GD1.xuat_5_nv_thu_nhap_cao()\n",
    "        elif chon == '0':\n",
    "            ASM_GD1.thoat()\n",
    "            break\n",
    "        else:\n",
    "            print(\">> Lựa chọn không hợp lệ, vui lòng chọn lại!\")\n"
   ]
  }
 ],
 "metadata": {
  "kernelspec": {
   "display_name": "Python (.venv)",
   "language": "python",
   "name": ".venv"
  },
  "language_info": {
   "codemirror_mode": {
    "name": "ipython",
    "version": 3
   },
   "file_extension": ".py",
   "mimetype": "text/x-python",
   "name": "python",
   "nbconvert_exporter": "python",
   "pygments_lexer": "ipython3",
   "version": "3.13.7"
  }
 },
 "nbformat": 4,
 "nbformat_minor": 5
}
