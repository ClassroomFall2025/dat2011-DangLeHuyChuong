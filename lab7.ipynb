{
 "cells": [
  {
   "cell_type": "markdown",
   "id": "fdeff819",
   "metadata": {},
   "source": [
    "# Sinh Viên thực hiện Lab 7 ở Đây"
   ]
  },
  {
   "cell_type": "markdown",
   "id": "acc5d7dc",
   "metadata": {},
   "source": [
    "## Lab 7 - Bài 1"
   ]
  },
  {
   "cell_type": "code",
   "execution_count": null,
   "id": "001e0507",
   "metadata": {},
   "outputs": [],
   "source": [
    "# Code lab 7 bài 1 ở đây\n",
    "try:\n",
    "    with open(\"DAT2011 - Lab 7 - Resource.txt\", \"r\", encoding=\"utf-8\") as f:\n",
    "        content = f.read()\n",
    "        print(content)\n",
    "\n",
    "    with open(\"DAT2011 - Lab 7 - Resource.txt\", \"r\", encoding=\"utf-8\") as f:\n",
    "        dong1 = f.readline()\n",
    "        dong2 = f.readline()\n",
    "        print(\"\\nTên bài thơ (9 kí tự đầu):\", dong1[:9])\n",
    "        print(\"Tên tác giả:\", dong2.strip())\n",
    "except FileNotFoundError:\n",
    "    print(\"Không tìm thấy tệp tin.\")\n"
   ]
  },
  {
   "cell_type": "code",
   "execution_count": null,
   "id": "fa9cb39f",
   "metadata": {},
   "outputs": [],
   "source": [
    "# Code lab 7  bài 2 ở đây\n",
    "noi_dung = \"\"\"...\n",
    "Nếu một mai tôi có bay lên trời\n",
    "Thì người ơi tôi đã sống rất thành thơi\n",
    "Nếu một mai tôi có đi qua đời\n",
    "Thì người ơi tôi đã sống rất tuyệt vời\n",
    "...\"\"\"\n",
    "with open(\"Lab7-Exercise2.txt\", \"w\", encoding=\"utf-8\") as f:\n",
    "    f.write(noi_dung)\n",
    "    print(\"Đã ghi nội dung thành công\")\n",
    "\n"
   ]
  },
  {
   "cell_type": "markdown",
   "id": "0f2483fe",
   "metadata": {},
   "source": [
    "## Lab 7 - Bài 3"
   ]
  },
  {
   "cell_type": "code",
   "execution_count": 1,
   "id": "7034990b",
   "metadata": {},
   "outputs": [
    {
     "name": "stdout",
     "output_type": "stream",
     "text": [
      "\n",
      "Nhập thông tin bài thơ thứ 1:\n",
      "Tiêu đề: mootj con vitj\n",
      "Tác giả: duc\n",
      "Năm sáng tác: 1997\n",
      "\n",
      "Nhập thông tin bài thơ thứ 2:\n",
      "Tiêu đề: \n",
      "Tác giả: \n",
      "Năm sáng tác: \n",
      "\n",
      "Nhập thông tin bài thơ thứ 3:\n",
      "Tiêu đề: \n",
      "Tác giả: \n",
      "Năm sáng tác: \n",
      "\n",
      "Nhập thông tin bài thơ thứ 4:\n",
      "Tiêu đề: \n",
      "Tác giả: \n",
      "Năm sáng tác: \n",
      "\n",
      "Nhập thông tin bài thơ thứ 5:\n",
      "Tiêu đề: \n",
      "Tác giả: \n",
      "Năm sáng tác: \n",
      "\n",
      "Đã ghi thông tin 5 bài thơ vào file 'baitho.csv' thành công\n"
     ]
    }
   ],
   "source": [
    "# Code lab 7  bài 3 ở đây\n",
    "import csv\n",
    "with open(\"baitho.csv\", \"w\", newline=\"\", encoding=\"utf-8\") as file:\n",
    "    writer = csv.writer(file)\n",
    "    writer.writerow([\"Tiêu đề\", \"Tác giả\", \"Năm sáng tác\"])\n",
    "    for i in range(1, 6):\n",
    "        print(f\"\\nNhập thông tin bài thơ thứ {i}:\")\n",
    "        tieu_de = input(\"Tiêu đề: \")\n",
    "        print(\"Tiêu đề:\", tieu_de)\n",
    "        tac_gia = input(\"Tác giả: \")\n",
    "        print(\"Tác giả:\", tac_gia)\n",
    "        nam_sang_tac = input(\"Năm sáng tác: \")\n",
    "        print(\"Năm sáng tác:\", nam_sang_tac)\n",
    "        writer.writerow([tieu_de, tac_gia, nam_sang_tac])\n",
    "\n",
    "print(\"\\nĐã ghi thông tin 5 bài thơ vào file 'baitho.csv' thành công\")\n"
   ]
  },
  {
   "cell_type": "markdown",
   "id": "d36ea3d3",
   "metadata": {},
   "source": [
    "## Lab 7 - Bài 4"
   ]
  },
  {
   "cell_type": "code",
   "execution_count": 1,
   "id": "4c707ec1",
   "metadata": {},
   "outputs": [
    {
     "name": "stdout",
     "output_type": "stream",
     "text": [
      "Đã ghi file bai4.xml thành công!\n"
     ]
    }
   ],
   "source": [
    "# code lab 7 bài 4 ở đây\n",
    "with open(\"DAT2011 - Lab 7 - Resource.txt\", \"r\", encoding=\"utf-8\") as f:\n",
    "    dòng = f.readlines()\n",
    "tên_bài_thơ = dòng[0].strip()\n",
    "tác_giả = dòng[1].strip()\n",
    "nội_dung = \"\".join(dòng[2:]).strip()\n",
    "khổ_thơ = nội_dung.split(\"\\n\\n\")\n",
    "\n",
    "xml_content = '<?xml version=\"1.0\" encoding=\"utf-8\"?>\\n'\n",
    "xml_content += \"<songs>\\n\"\n",
    "xml_content += \"<song>\\n\"\n",
    "xml_content += f\"  <name>{tên_bài_thơ}</name>\\n\"\n",
    "xml_content += f\"  <author>{tác_giả}</author>\\n\"\n",
    "\n",
    "for section in khổ_thơ:\n",
    "    xml_content += \"  <section>\\n\"\n",
    "    for dòng in section.split(\"\\n\"):\n",
    "        xml_content += f\"    {dòng.strip()}\\n\"\n",
    "    xml_content += \"  </section>\\n\"\n",
    "xml_content += \"</song>\\n\"\n",
    "xml_content += \"</songs>\\n\"\n",
    "\n",
    "with open(\"bai4.xml\", \"w\", encoding=\"utf-8\") as f:\n",
    "    f.write(xml_content)\n",
    "\n",
    "print(\"Đã ghi file bai4.xml thành công!\")\n"
   ]
  },
  {
   "cell_type": "markdown",
   "id": "e2b41d4a",
   "metadata": {},
   "source": [
    "## Lab 7 - Bài 5: bài tập làm thêm"
   ]
  },
  {
   "cell_type": "code",
   "execution_count": null,
   "id": "0e0172f7",
   "metadata": {},
   "outputs": [],
   "source": [
    "# code lab 7  bài làm thêm ở đây "
   ]
  }
 ],
 "metadata": {
  "kernelspec": {
   "display_name": "Python (ten_env)",
   "language": "python",
   "name": "ten_env"
  },
  "language_info": {
   "codemirror_mode": {
    "name": "ipython",
    "version": 3
   },
   "file_extension": ".py",
   "mimetype": "text/x-python",
   "name": "python",
   "nbconvert_exporter": "python",
   "pygments_lexer": "ipython3",
   "version": "3.13.7"
  }
 },
 "nbformat": 4,
 "nbformat_minor": 5
}
