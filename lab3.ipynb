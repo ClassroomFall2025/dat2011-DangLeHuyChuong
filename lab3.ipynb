{
 "cells": [
  {
   "cell_type": "markdown",
   "id": "fdeff819",
   "metadata": {},
   "source": [
    "# Sinh Viên thực hiện Lab 3 ở Đây"
   ]
  },
  {
   "cell_type": "markdown",
   "id": "acc5d7dc",
   "metadata": {},
   "source": [
    "## Lab 3 - Bài 1"
   ]
  },
  {
   "cell_type": "code",
   "execution_count": 1,
   "id": "001e0507",
   "metadata": {},
   "outputs": [
    {
     "name": "stdout",
     "output_type": "stream",
     "text": [
      "Thoát chương trình\n",
      "Dãy số hiện tại: [1, 2, 3, 4, 5, 6, 7]\n",
      "Dãy số sau khi sắp xếp: [1, 2, 3, 4, 5, 6, 7]\n",
      "Dãy số sau khi sắp xếp ngược: [7, 6, 5, 4, 3, 2, 1]\n",
      "Số lớn nhất trong dãy số là: 7\n",
      "Số nhỏ nhất trong dãy số là: 1\n",
      "Tổng các số chia hết cho 3 là: 9\n",
      "Trung bình các số chia hết cho 3 là: 4.5\n"
     ]
    }
   ],
   "source": [
    "# Code lab 3 bài 1 ở đây\n",
    "dãy_số = []\n",
    "while True:\n",
    "    số = input('Nhập số: ')\n",
    "    if số == 'e':\n",
    "        print('Thoát chương trình')\n",
    "        break\n",
    "    else:\n",
    "        try:\n",
    "            phần_tử = int(số)\n",
    "            dãy_số.append(phần_tử)\n",
    "        except ValueError:\n",
    "            print('Vui lòng nhập lại số hoặc e để thoát')\n",
    "            continue\n",
    "print('Dãy số hiện tại:', dãy_số)\n",
    "# Dãy số tăng dần\n",
    "dãy_số.sort()\n",
    "print('Dãy số sau khi sắp xếp:', dãy_số)\n",
    "# Dãy số giảm dần\n",
    "dãy_số.sort(reverse=True)\n",
    "print('Dãy số sau khi sắp xếp ngược:', dãy_số)\n",
    "# Tìm số lớn nhất và nhỏ nhất trong dãy số\n",
    "dãy_số_max = max(dãy_số)\n",
    "dãy_số_min = min(dãy_số)\n",
    "print('Số lớn nhất trong dãy số là:', dãy_số_max)\n",
    "print('Số nhỏ nhất trong dãy số là:', dãy_số_min)\n",
    "Tổng = 0\n",
    "dem = 0\n",
    "for phần_tử in dãy_số:\n",
    "    if phần_tử % 3 == 0:\n",
    "        Tổng += phần_tử\n",
    "        dem += 1\n",
    "print(f'Tổng các số chia hết cho 3 là: {Tổng}')\n",
    "if dem > 0:\n",
    "    kết_quả = Tổng / dem\n",
    "else:\n",
    "    kết_quả = 0\n",
    "print(f'Trung bình các số chia hết cho 3 là: {kết_quả}')"
   ]
  },
  {
   "cell_type": "markdown",
   "id": "c0835310",
   "metadata": {},
   "source": [
    "## Lab 3 - Bài 2"
   ]
  },
  {
   "cell_type": "code",
   "execution_count": 3,
   "id": "fa9cb39f",
   "metadata": {},
   "outputs": [
    {
     "name": "stdout",
     "output_type": "stream",
     "text": [
      "Sinh viên thứ 1:\n",
      "Họ tên sinh viên: chương\n",
      "Điểm sinh viên: 4.0\n",
      "Xếp loại: Yếu\n"
     ]
    }
   ],
   "source": [
    "# Code lab 3  bài 2 ở đây\n",
    "def xếp_loại(điểm):\n",
    "    if điểm < 5:\n",
    "        print('Xếp loại: Yếu')\n",
    "    elif 5 <= điểm < 7:\n",
    "        print('Xếp loại: Trung bình')\n",
    "    elif 7 <= điểm < 8:\n",
    "        print('Xếp loại: Khá')\n",
    "    elif 8 <= điểm < 9:\n",
    "        print('Xếp loại: Giỏi')\n",
    "    else:\n",
    "        print('Xếp loại: Xuất sắc')\n",
    "danh_sách = []\n",
    "số_sinh_viên = int(input('Nhập số sinh viên: '))\n",
    "for n in range(số_sinh_viên):\n",
    "    print(f'Sinh viên thứ {n + 1}:')\n",
    "    sinh_viên = {}\n",
    "    sinh_viên[\"Họ tên\"] = input('Nhập họ tên sinh viên: ')\n",
    "    print('Họ tên sinh viên:', sinh_viên[\"Họ tên\"])\n",
    "    sinh_viên[\"Điểm\"] = float(input('Nhập điểm sinh viên: ').replace(',', '.'))\n",
    "    print('Điểm sinh viên:', sinh_viên[\"Điểm\"])\n",
    "    xếp_loại(sinh_viên[\"Điểm\"])"
   ]
  },
  {
   "cell_type": "markdown",
   "id": "0f2483fe",
   "metadata": {},
   "source": [
    "## Lab 3 - Bài 3"
   ]
  },
  {
   "cell_type": "code",
   "execution_count": null,
   "id": "7034990b",
   "metadata": {},
   "outputs": [
    {
     "name": "stdout",
     "output_type": "stream",
     "text": [
      "3 là số nguyên tố\n"
     ]
    }
   ],
   "source": [
    "# Code lab 3  bài 3 ở đây\n",
    "n = int(input('Nhập số: '))\n",
    "ok = True\n",
    "if n < 2:\n",
    "    ok = False\n",
    "else:\n",
    "    i = 2\n",
    "    while i < (n -1):\n",
    "        if n % i == 0:\n",
    "            ok = False\n",
    "            break\n",
    "        i += 1\n",
    "if ok:\n",
    "    print(f'{n} là số nguyên tố')\n",
    "else:\n",
    "    print(f'{n} không phải là số nguyên tố')\n"
   ]
  },
  {
   "cell_type": "markdown",
   "id": "d36ea3d3",
   "metadata": {},
   "source": [
    "## Lab 3 - Bài 4"
   ]
  },
  {
   "cell_type": "code",
   "execution_count": null,
   "id": "4c707ec1",
   "metadata": {},
   "outputs": [
    {
     "name": "stdout",
     "output_type": "stream",
     "text": [
      "Bảng cửu chương của 1\n",
      "1 x 1 = 1\n",
      "1 x 2 = 2\n",
      "1 x 3 = 3\n",
      "1 x 4 = 4\n",
      "1 x 5 = 5\n",
      "1 x 6 = 6\n",
      "1 x 7 = 7\n",
      "1 x 8 = 8\n",
      "1 x 9 = 9\n",
      "1 x 10 = 10\n",
      "Bảng cửu chương từ 1 đến 9\n",
      " 1 x 1 = 1 \t 2 x 1 = 2 \t 3 x 1 = 3 \t 4 x 1 = 4 \t 5 x 1 = 5 \t 6 x 1 = 6 \t 7 x 1 = 7 \t 8 x 1 = 8 \t 9 x 1 = 9 \t\n",
      " 1 x 2 = 2 \t 2 x 2 = 4 \t 3 x 2 = 6 \t 4 x 2 = 8 \t 5 x 2 = 10\t 6 x 2 = 12\t 7 x 2 = 14\t 8 x 2 = 16\t 9 x 2 = 18\t\n",
      " 1 x 3 = 3 \t 2 x 3 = 6 \t 3 x 3 = 9 \t 4 x 3 = 12\t 5 x 3 = 15\t 6 x 3 = 18\t 7 x 3 = 21\t 8 x 3 = 24\t 9 x 3 = 27\t\n",
      " 1 x 4 = 4 \t 2 x 4 = 8 \t 3 x 4 = 12\t 4 x 4 = 16\t 5 x 4 = 20\t 6 x 4 = 24\t 7 x 4 = 28\t 8 x 4 = 32\t 9 x 4 = 36\t\n",
      " 1 x 5 = 5 \t 2 x 5 = 10\t 3 x 5 = 15\t 4 x 5 = 20\t 5 x 5 = 25\t 6 x 5 = 30\t 7 x 5 = 35\t 8 x 5 = 40\t 9 x 5 = 45\t\n",
      " 1 x 6 = 6 \t 2 x 6 = 12\t 3 x 6 = 18\t 4 x 6 = 24\t 5 x 6 = 30\t 6 x 6 = 36\t 7 x 6 = 42\t 8 x 6 = 48\t 9 x 6 = 54\t\n",
      " 1 x 7 = 7 \t 2 x 7 = 14\t 3 x 7 = 21\t 4 x 7 = 28\t 5 x 7 = 35\t 6 x 7 = 42\t 7 x 7 = 49\t 8 x 7 = 56\t 9 x 7 = 63\t\n",
      " 1 x 8 = 8 \t 2 x 8 = 16\t 3 x 8 = 24\t 4 x 8 = 32\t 5 x 8 = 40\t 6 x 8 = 48\t 7 x 8 = 56\t 8 x 8 = 64\t 9 x 8 = 72\t\n",
      " 1 x 9 = 9 \t 2 x 9 = 18\t 3 x 9 = 27\t 4 x 9 = 36\t 5 x 9 = 45\t 6 x 9 = 54\t 7 x 9 = 63\t 8 x 9 = 72\t 9 x 9 = 81\t\n",
      " 1 x 10 = 10\t 2 x 10 = 20\t 3 x 10 = 30\t 4 x 10 = 40\t 5 x 10 = 50\t 6 x 10 = 60\t 7 x 10 = 70\t 8 x 10 = 80\t 9 x 10 = 90\t\n",
      "\n"
     ]
    }
   ],
   "source": [
    "# code lab 3 bài 4 ở đây\n",
    "n = int(input(\"Nhập một số để in bảng cửu chương: \"))\n",
    "print(\"Bảng cửu chương của\", n)\n",
    "for i in range(1, 11):\n",
    "    print(\"%d x %d = %d\" % (n, i, n * i))\n",
    "# code lab 3 bài 4 ở đây\n",
    "print(\"Bảng cửu chương từ 1 đến 9\")\n",
    "for j in range(1, 11): \n",
    "    for i in range(1, 10):\n",
    "        print(\"%2d x %d = %-2d\" % (i, j, i * j), end=\"\\t\")\n",
    "    print()\n",
    "print()"
   ]
  },
  {
   "cell_type": "markdown",
   "id": "e2b41d4a",
   "metadata": {},
   "source": [
    "## Lab 3 - Bài 5: bài tập làm thêm"
   ]
  },
  {
   "cell_type": "code",
   "execution_count": null,
   "id": "0e0172f7",
   "metadata": {},
   "outputs": [],
   "source": [
    "# code lab 3  bài làm thêm ở đây \n",
    "import math; from datetime import datetime\n",
    "menu = \"\"\"\n",
    "        1. Phep tinh co ban: Cong, tru, nhan, chia\n",
    "        2. Luy thua: Tinh x^y\n",
    "        3. Can bac hai: Tinh √x\n",
    "        4. Ham luong giac: Sin, cos, tan\n",
    "        5. Logarit: Log co so 10, ln, log co so tuy chon\n",
    "        6. Giai phuong trinh bac nhat\n",
    "        7. Giai phuong trinh bac 2\n",
    "        8. Lich su: Luu va xem lai cac phep tinh da thuc hien\n",
    "        9. Thoi gian: Hien thi thoi gian hien tai\n",
    "        10. Giao dien than thien: Menu de su dung bang tieng Viet\n",
    "        \"\"\"\n",
    "while True:\n",
    "    print(menu)\n",
    "    lựa_chọn = input(\"Mời bạn chọn: \")\n",
    "    match lựa_chọn:\n",
    "        case '1':\n",
    "            print(\"Phép toán cơ bản\")\n",
    "            x = int(input('Nhập số: '))\n",
    "            y = int(input('Nhập số: '))\n",
    "            print(f'{x} + {y} = {x + y}')\n",
    "            print(f'{x} - {y} = {x - y}')\n",
    "            print(f'{x} * {y} = {x * y}')\n",
    "            print(f'{x} / {y} = {x / y}')\n",
    "        case '2':\n",
    "            print(\"Lũy thừa\")\n",
    "            x = int(input('Nhập số: '))\n",
    "            y = int(input('Nhập số: '))\n",
    "            print(f'{x} ^ {y} = {x ** y}')\n",
    "        case '3':\n",
    "            print(\"Căn bậc hai\")\n",
    "            x = int(input('Nhập số: '))\n",
    "            print(f'√{x} = {x ** 0.5}')\n",
    "        case '4':\n",
    "            print(\"Hàm lượng giác\")\n",
    "            x = int(input('Nhập số: '))\n",
    "            print(f'sin({x}) = {math.sin(x)}')\n",
    "            print(f'cos({x}) = {math.cos(x)}')\n",
    "            print(f'tan({x}) = {math.tan(x)}')\n",
    "        case '5':\n",
    "            print(\"Logarit\")\n",
    "            x = int(input('Nhập số: '))\n",
    "            print(f'log10({x}) = {math.log10(x)}')\n",
    "            print(f'ln({x}) = {math.log(x)}')\n",
    "            y = int(input('Nhập cơ số tùy chọn: '))\n",
    "            print(f'log_{y}({x}) = {math.log(x, y)}')\n",
    "        case '6':\n",
    "            print(\"Giải phương trình bậc nhất\")\n",
    "            a = int(input('Nhập hệ số a: '))\n",
    "            b = int(input('Nhập hệ số b: '))\n",
    "            if a != 0:\n",
    "                print(f'Nghiệm của phương trình {a}x + {b} = 0 là: {-b / a}')\n",
    "            else:\n",
    "                print(\"Phương trình vô nghiệm\")\n",
    "        case '7':\n",
    "            print(\"Giải phương trình bậc hai\")\n",
    "            a = int(input('Nhập hệ số a: '))\n",
    "            b = int(input('Nhập hệ số b: '))\n",
    "            c = int(input('Nhập hệ số c: '))\n",
    "            delta = b ** 2 - 4 * a * c\n",
    "            if delta > 0:\n",
    "                x1 = (-b + delta ** 0.5) / (2 * a)\n",
    "                x2 = (-b - delta ** 0.5) / (2 * a)\n",
    "                print(f'Nghiệm của phương trình {a}x^2 + {b}x + {c} = 0 là: {x1} và {x2}')\n",
    "            elif delta == 0:\n",
    "                x = -b / (2 * a)\n",
    "                print(f'Nghiệm của phương trình {a}x^2 + {b}x + {c} = 0 là: {x}')\n",
    "            else:\n",
    "                print(\"Phương trình vô nghiệm\")\n",
    "        case '8':\n",
    "            print(\"Lịch sử\")\n",
    "            history = []\n",
    "            while True:\n",
    "                x = int(input('Nhập số: '))\n",
    "                y = int(input('Nhập số: '))\n",
    "                print(f'{x} + {y} = {x + y}')\n",
    "                history.append((x, y, 'add', x + y))\n",
    "                if input(\"Bạn có muốn tiếp tục không? (y/n): \") == 'n':\n",
    "                    break\n",
    "            print(\"Lịch sử phép toán:\")\n",
    "            for h in history:\n",
    "                print(f'{h[0]} + {h[1]} = {h[3]}')\n",
    "        case '9':\n",
    "            print(\"Thời gian\")\n",
    "            from datetime import datetime\n",
    "            now = datetime.now()\n",
    "            print(\"Thời gian hiện tại:\", now.strftime(\"%Y-%m-%d %H:%M:%S\"))\n",
    "        case '10':\n",
    "            print(\"Giao diện thân thiện\")\n",
    "            print(menu)\n",
    "        case _:\n",
    "            print(\"Lựa chọn không hợp lệ, vui lòng chọn lại\")\n",
    "            break"
   ]
  }
 ],
 "metadata": {
  "kernelspec": {
   "display_name": "Python 3",
   "language": "python",
   "name": "python3"
  },
  "language_info": {
   "codemirror_mode": {
    "name": "ipython",
    "version": 3
   },
   "file_extension": ".py",
   "mimetype": "text/x-python",
   "name": "python",
   "nbconvert_exporter": "python",
   "pygments_lexer": "ipython3",
   "version": "3.12.1"
  }
 },
 "nbformat": 4,
 "nbformat_minor": 5
}
