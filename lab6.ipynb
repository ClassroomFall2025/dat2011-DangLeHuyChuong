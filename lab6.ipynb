{
 "cells": [
  {
   "cell_type": "markdown",
   "id": "fdeff819",
   "metadata": {},
   "source": [
    "# Sinh Viên thực hiện Lab 6 ở Đây"
   ]
  },
  {
   "cell_type": "markdown",
   "id": "acc5d7dc",
   "metadata": {},
   "source": [
    "## Lab 6 - Bài 1"
   ]
  },
  {
   "cell_type": "code",
   "execution_count": null,
   "id": "001e0507",
   "metadata": {},
   "outputs": [
    {
     "name": "stdout",
     "output_type": "stream",
     "text": [
      "Nhập thông tin cho 2 hình chữ nhật:\n",
      "\n",
      "--- Hình chữ nhật 1 ---\n",
      "\n",
      "--- Hình chữ nhật 2 ---\n",
      "\n",
      "Nhập thông tin cho hình vuông:\n",
      "\n",
      " Thông tin các hình đã nhập \n",
      "\n",
      "* Hình 1: ChuNhat\n",
      "Chiều dài:  12.0\n",
      "Chiều rộng:  13.0\n",
      "Chu vi: 50.0\n",
      "Diện tích: 156.0\n",
      "\n",
      "* Hình 2: ChuNhat\n",
      "Chiều dài:  11.0\n",
      "Chiều rộng:  14.0\n",
      "Chu vi: 50.0\n",
      "Diện tích: 154.0\n",
      "\n",
      "* Hình 3: Vuong\n",
      "Cạnh: 6.0\n",
      "Chu vi: 24.0\n",
      "Diện tích: 36.0\n"
     ]
    }
   ],
   "source": [
    "# Code lab 6 bài 1 ở đây\n",
    "from hinhhoc import ChuNhat, Vuong\n",
    "\n",
    "def main():\n",
    "    danh_sach_hinh = []\n",
    "\n",
    "    print(\"Nhập thông tin cho 2 hình chữ nhật:\")\n",
    "    for i in range(2):\n",
    "        print(f\"\\n--- Hình chữ nhật {i+1} ---\")\n",
    "        dai = float(input(\"Nhập chiều dài: \"))\n",
    "        rong = float(input(\"Nhập chiều rộng: \"))\n",
    "        cn = ChuNhat(dai, rong)\n",
    "        danh_sach_hinh.append(cn)\n",
    "\n",
    "    print(\"\\nNhập thông tin cho hình vuông:\")\n",
    "    canh = float(input(\"Nhập cạnh: \"))\n",
    "    vu = Vuong(canh)\n",
    "    danh_sach_hinh.append(vu)\n",
    "\n",
    "    print(\"\\n ---Thông tin các hình đã nhập--- \")\n",
    "    for idx, hinh in enumerate(danh_sach_hinh):\n",
    "        print(f\"\\n* Hình {idx+1}:\", type(hinh).__name__)\n",
    "        hinh.xuat()\n",
    "\n",
    "main()"
   ]
  },
  {
   "cell_type": "markdown",
   "id": "c0835310",
   "metadata": {},
   "source": [
    "## Lab 6 - Bài 2"
   ]
  },
  {
   "cell_type": "code",
   "execution_count": null,
   "id": "fa9cb39f",
   "metadata": {},
   "outputs": [
    {
     "name": "stdout",
     "output_type": "stream",
     "text": [
      "\n",
      "--- Thông tin sinh viên IT ---\n",
      "Họ tên: Đặng Lê Huy Chương\n",
      "Ngành: Công nghệ thông tin\n",
      "Điểm: 8.625\n",
      "Học lực: Giỏi\n",
      "\n",
      "--- Thông tin sinh viên Biz ---\n",
      "Họ tên: Trần Văn Trương\n",
      "Ngành: Kinh doanh\n",
      "Điểm: 10.0\n",
      "Học lực: Xuất sắc\n"
     ]
    }
   ],
   "source": [
    "# Code lab 6  bài 2 ở đây\n",
    "from sinhvienpoly import SinhVienIT, SinhVienBiz\n",
    "\n",
    "ho_ten_it = input(\"Nhập họ tên SV IT: \")\n",
    "java = float(input(\"Nhập điểm Java: \"))\n",
    "html = float(input(\"Nhập điểm HTML: \"))\n",
    "css = float(input(\"Nhập điểm CSS: \"))\n",
    "sv_it = SinhVienIT(ho_ten_it, java, html, css)\n",
    "\n",
    "ho_ten_biz = input(\"\\nNhập họ tên SV Biz: \")\n",
    "marketing = float(input(\"Nhập điểm Marketing: \"))\n",
    "sales = float(input(\"Nhập điểm Sales: \"))\n",
    "sv_biz = SinhVienBiz(ho_ten_biz, marketing, sales)\n",
    "\n",
    "print(\"\\n--- Thông tin sinh viên IT ---\")\n",
    "sv_it.xuat()\n",
    "\n",
    "print(\"\\n--- Thông tin sinh viên Biz ---\")\n",
    "sv_biz.xuat()"
   ]
  },
  {
   "cell_type": "markdown",
   "id": "0f2483fe",
   "metadata": {},
   "source": [
    "## Lab 6 - Bài 3"
   ]
  },
  {
   "cell_type": "code",
   "execution_count": 5,
   "id": "7034990b",
   "metadata": {},
   "outputs": [
    {
     "name": "stdout",
     "output_type": "stream",
     "text": [
      "\n",
      "--- Thông tin sinh viên IT ---\n",
      "Họ tên: chương\n",
      "Ngành: Công nghệ thông tin\n",
      "Điểm: 10.0\n",
      "Học lực: Xuất sắc\n",
      "\n",
      "--- Thông tin sinh viên Biz ---\n",
      "Họ tên: trương\n",
      "Ngành: Kinh doanh\n",
      "Điểm: 10.0\n",
      "Học lực: Xuất sắc\n"
     ]
    }
   ],
   "source": [
    "# Code lab 6  bài 3 ở đây\n",
    "from sinhvienpoly import SinhVienIT, SinhVienBiz\n",
    "\n",
    "ho_ten_it = input(\"Nhập họ tên SV IT: \")\n",
    "java = float(input(\"Nhập điểm Java: \"))\n",
    "html = float(input(\"Nhập điểm HTML: \"))\n",
    "css = float(input(\"Nhập điểm CSS: \"))\n",
    "sv_it = SinhVienIT(ho_ten_it, java, html, css)\n",
    "\n",
    "ho_ten_biz = input(\"\\nNhập họ tên SV Biz: \")\n",
    "marketing = float(input(\"Nhập điểm Marketing: \"))\n",
    "sales = float(input(\"Nhập điểm Sales: \"))\n",
    "sv_biz = SinhVienBiz(ho_ten_biz, marketing, sales)\n",
    "\n",
    "print(\"\\n--- Thông tin sinh viên IT ---\")\n",
    "sv_it.xuat()\n",
    "\n",
    "print(\"\\n--- Thông tin sinh viên Biz ---\")\n",
    "sv_biz.xuat()"
   ]
  },
  {
   "cell_type": "markdown",
   "id": "d36ea3d3",
   "metadata": {},
   "source": [
    "## Lab 6 - Bài 4"
   ]
  },
  {
   "cell_type": "code",
   "execution_count": 7,
   "id": "4c707ec1",
   "metadata": {},
   "outputs": [
    {
     "name": "stdout",
     "output_type": "stream",
     "text": [
      "\n",
      "====== QUẢN LÝ SINH VIÊN ======\n",
      "1. Nhập danh sách sinh viên\n",
      "2. Xuất thông tin danh sách sinh viên\n",
      "3. Xuất danh sách sinh viên có học lực giỏi\n",
      "4. Sắp xếp danh sách sinh viên theo điểm\n",
      "5. Kết thúc\n",
      "\n",
      "=== DANH SÁCH SINH VIÊN ===\n",
      "Họ tên: Chương\n",
      "Ngành: Công nghệ thông tin\n",
      "Điểm: 10.0\n",
      "Học lực: Xuất sắc\n",
      "------------------------------\n",
      "\n",
      "====== QUẢN LÝ SINH VIÊN ======\n",
      "1. Nhập danh sách sinh viên\n",
      "2. Xuất thông tin danh sách sinh viên\n",
      "3. Xuất danh sách sinh viên có học lực giỏi\n",
      "4. Sắp xếp danh sách sinh viên theo điểm\n",
      "5. Kết thúc\n",
      "\n",
      "=== DANH SÁCH SINH VIÊN GIỎI ===\n",
      "Không có sinh viên giỏi nào.\n",
      "\n",
      "====== QUẢN LÝ SINH VIÊN ======\n",
      "1. Nhập danh sách sinh viên\n",
      "2. Xuất thông tin danh sách sinh viên\n",
      "3. Xuất danh sách sinh viên có học lực giỏi\n",
      "4. Sắp xếp danh sách sinh viên theo điểm\n",
      "5. Kết thúc\n",
      "\n",
      "=== SẮP XẾP DANH SÁCH THEO ĐIỂM GIẢM DẦN ===\n",
      "\n",
      "=== DANH SÁCH SINH VIÊN ===\n",
      "Họ tên: Chương\n",
      "Ngành: Công nghệ thông tin\n",
      "Điểm: 10.0\n",
      "Học lực: Xuất sắc\n",
      "------------------------------\n",
      "\n",
      "====== QUẢN LÝ SINH VIÊN ======\n",
      "1. Nhập danh sách sinh viên\n",
      "2. Xuất thông tin danh sách sinh viên\n",
      "3. Xuất danh sách sinh viên có học lực giỏi\n",
      "4. Sắp xếp danh sách sinh viên theo điểm\n",
      "5. Kết thúc\n",
      "Chương trình kết thúc.\n"
     ]
    }
   ],
   "source": [
    "# code lab 6 bài 4 ở đây\n",
    "import quanlysinhvien as quanlysinhvien\n",
    "\n",
    "while True:\n",
    "    print(\"\\n====== QUẢN LÝ SINH VIÊN ======\")\n",
    "    print(\"1. Nhập danh sách sinh viên\")\n",
    "    print(\"2. Xuất thông tin danh sách sinh viên\")\n",
    "    print(\"3. Xuất danh sách sinh viên có học lực giỏi\")\n",
    "    print(\"4. Sắp xếp danh sách sinh viên theo điểm\")\n",
    "    print(\"5. Kết thúc\")\n",
    "    chon = input(\"Chọn chức năng (1-5): \")\n",
    "\n",
    "    match chon:\n",
    "        case \"1\":\n",
    "            quanlysinhvien.nhap_sinh_vien()\n",
    "        case \"2\":\n",
    "            quanlysinhvien.xuat_danh_sach()\n",
    "        case \"3\":\n",
    "            quanlysinhvien.xuat_sv_gioi()\n",
    "        case \"4\":\n",
    "            quanlysinhvien.sap_xep_theo_diem()\n",
    "        case \"5\":\n",
    "            print(\"Chương trình kết thúc.\")\n",
    "            break\n",
    "        case _:\n",
    "            print(\"Vui lòng nhập lại\")\n"
   ]
  },
  {
   "cell_type": "markdown",
   "id": "e2b41d4a",
   "metadata": {},
   "source": [
    "## Lab 6 - Bài 5: bài tập làm thêm"
   ]
  },
  {
   "cell_type": "code",
   "execution_count": null,
   "id": "0e0172f7",
   "metadata": {},
   "outputs": [],
   "source": [
    "# code lab 6  bài làm thêm ở đây "
   ]
  }
 ],
 "metadata": {
  "kernelspec": {
   "display_name": "Python (ten_env)",
   "language": "python",
   "name": "ten_env"
  },
  "language_info": {
   "codemirror_mode": {
    "name": "ipython",
    "version": 3
   },
   "file_extension": ".py",
   "mimetype": "text/x-python",
   "name": "python",
   "nbconvert_exporter": "python",
   "pygments_lexer": "ipython3",
   "version": "3.13.7"
  }
 },
 "nbformat": 4,
 "nbformat_minor": 5
}
