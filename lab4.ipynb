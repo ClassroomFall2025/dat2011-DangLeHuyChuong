{
 "cells": [
  {
   "cell_type": "markdown",
   "id": "fdeff819",
   "metadata": {},
   "source": [
    "# Sinh Viên thực hiện Lab 4 ở Đây"
   ]
  },
  {
   "cell_type": "markdown",
   "id": "acc5d7dc",
   "metadata": {},
   "source": [
    "## Lab 1 - Bài 1"
   ]
  },
  {
   "cell_type": "code",
   "execution_count": 1,
   "id": "001e0507",
   "metadata": {},
   "outputs": [
    {
     "name": "stdout",
     "output_type": "stream",
     "text": [
      "Tiền nước phải trả: 30000\n"
     ]
    }
   ],
   "source": [
    "# Code lab 4 bài 1 ở đây\n",
    "def tinh_tien_nuoc(san_luong):\n",
    "    gia_ban_nuoc = (7500, 8800, 12000, 24000)\n",
    "\n",
    "    if san_luong <= 10:\n",
    "        tien = san_luong * gia_ban_nuoc[0]\n",
    "    elif san_luong <= 20:\n",
    "        tien = 10 * gia_ban_nuoc[0] + (san_luong - 10) * gia_ban_nuoc[1]\n",
    "    elif san_luong <= 30:\n",
    "        tien = 10 * gia_ban_nuoc[0] + 10 * gia_ban_nuoc[1] + (san_luong - 20) * gia_ban_nuoc[2]\n",
    "    else:\n",
    "        tien = 10 * gia_ban_nuoc[0] + 10 * gia_ban_nuoc[1] + 10 * gia_ban_nuoc[2] + (san_luong - 30) * gia_ban_nuoc[3]\n",
    "    \n",
    "    return tien\n",
    "m3 = int(input(\"Nhập số m3 nước tiêu thụ: \"))\n",
    "print(\"Tiền nước phải trả:\", tinh_tien_nuoc(m3))"
   ]
  },
  {
   "cell_type": "markdown",
   "id": "c0835310",
   "metadata": {},
   "source": [
    "## Lab 4 - Bài 2"
   ]
  },
  {
   "cell_type": "code",
   "execution_count": 2,
   "id": "fa9cb39f",
   "metadata": {},
   "outputs": [
    {
     "name": "stdout",
     "output_type": "stream",
     "text": [
      "{'sugar': 0.61, 'bean': 0.31000000000000005}\n"
     ]
    }
   ],
   "source": [
    "# Code lab 4  bài 2 ở đây\n",
    "def tinh_nguyen_lieu(so_banh_dau_xanh, so_banh_thap_cam, so_banh_deo):\n",
    "    sugar = so_banh_dau_xanh * 0.04 + so_banh_thap_cam * 0.06 + so_banh_deo * 0.05\n",
    "    bean = so_banh_dau_xanh * 0.07 + so_banh_thap_cam * 0.0 + so_banh_deo * 0.02\n",
    "    nguyen_lieu = {\"sugar\": sugar, \"bean\": bean}\n",
    "    return nguyen_lieu\n",
    "dx = int(input(\"Nhập số bánh đậu xanh: \"))\n",
    "tc = int(input(\"Nhập số bánh thập cẩm: \"))\n",
    "deo = int(input(\"Nhập số bánh dẻo: \"))\n",
    "result = tinh_nguyen_lieu(dx, tc, deo)\n",
    "print(result)"
   ]
  },
  {
   "cell_type": "markdown",
   "id": "0f2483fe",
   "metadata": {},
   "source": [
    "## Lab 4 - Bài 3"
   ]
  },
  {
   "cell_type": "code",
   "execution_count": 1,
   "id": "7034990b",
   "metadata": {},
   "outputs": [
    {
     "name": "stdout",
     "output_type": "stream",
     "text": [
      "Các số chẵn là: []\n"
     ]
    }
   ],
   "source": [
    "# Code lab 4  bài 3 ở đây\n",
    "def loc_so_chan():\n",
    "    try:\n",
    "        my_list = list(map(int, input(\"Nhập dãy số nguyên, cách nhau bằng dấu cách: \").split()))\n",
    "        new_list = list(filter(lambda x: x % 2 == 0, my_list))\n",
    "        print(\"Các số chẵn là:\", new_list)\n",
    "    except ValueError:\n",
    "        print(\"Lỗi: Vui lòng chỉ nhập số nguyên!\")\n",
    "loc_so_chan()"
   ]
  },
  {
   "cell_type": "markdown",
   "id": "d36ea3d3",
   "metadata": {},
   "source": [
    "## Lab 4 - Bài 4"
   ]
  },
  {
   "cell_type": "code",
   "execution_count": 4,
   "id": "4c707ec1",
   "metadata": {},
   "outputs": [
    {
     "name": "stdout",
     "output_type": "stream",
     "text": [
      "+---------------------------+\n",
      "1. Tính tiền nước sinh hoạt\n",
      "2. Tính nguyên liệu làm bánh\n",
      "3. Lọc số chẵn từ dãy số\n",
      "0. Kết thúc\n",
      "+---------------------------+\n",
      "Tiền nước phải trả: 199000\n",
      "+---------------------------+\n",
      "1. Tính tiền nước sinh hoạt\n",
      "2. Tính nguyên liệu làm bánh\n",
      "3. Lọc số chẵn từ dãy số\n",
      "0. Kết thúc\n",
      "+---------------------------+\n",
      "Nguyên liệu cần: {'sugar': 0.61, 'bean': 0.31000000000000005}\n",
      "+---------------------------+\n",
      "1. Tính tiền nước sinh hoạt\n",
      "2. Tính nguyên liệu làm bánh\n",
      "3. Lọc số chẵn từ dãy số\n",
      "0. Kết thúc\n",
      "+---------------------------+\n",
      "Các số chẵn là: [2, 4, 6, 8]\n",
      "+---------------------------+\n",
      "1. Tính tiền nước sinh hoạt\n",
      "2. Tính nguyên liệu làm bánh\n",
      "3. Lọc số chẵn từ dãy số\n",
      "0. Kết thúc\n",
      "+---------------------------+\n",
      "Thoát chương trình.\n"
     ]
    }
   ],
   "source": [
    "# code lab 4 bài 4 ở đây\n",
    "import lab4_module\n",
    "def menu():\n",
    "    while True:\n",
    "        print(\"+---------------------------+\")\n",
    "        print(\"1. Tính tiền nước sinh hoạt\")\n",
    "        print(\"2. Tính nguyên liệu làm bánh\")\n",
    "        print(\"3. Lọc số chẵn từ dãy số\")\n",
    "        print(\"0. Kết thúc\")\n",
    "        print(\"+---------------------------+\")\n",
    "        chon = input(\"Chọn chức năng: \")\n",
    "\n",
    "        if chon == \"1\":\n",
    "            try:\n",
    "                m3 = int(input(\"Nhập số m3 nước tiêu thụ: \"))\n",
    "                print(\"Tiền nước phải trả:\", lab4_module.tinh_tien_nuoc(m3))\n",
    "            except ValueError:\n",
    "                print(\"Vui lòng nhập số nguyên!\")\n",
    "\n",
    "        elif chon == \"2\":\n",
    "            try:\n",
    "                dx = int(input(\"Nhập số bánh đậu xanh: \"))\n",
    "                tc = int(input(\"Nhập số bánh thập cẩm: \"))\n",
    "                deo = int(input(\"Nhập số bánh dẻo: \"))\n",
    "                result = lab4_module.tinh_nguyen_lieu(dx, tc, deo)\n",
    "                print(\"Nguyên liệu cần:\", result)\n",
    "            except ValueError:\n",
    "                print(\"Vui lòng nhập số nguyên!\")\n",
    "\n",
    "        elif chon == \"3\":\n",
    "            try:\n",
    "                lst = list(map(int, input(\"Nhập dãy số nguyên cách nhau bởi dấu cách: \").split()))\n",
    "                print(\"Các số chẵn là:\", lab4_module.loc_so_chan(lst))\n",
    "            except ValueError:\n",
    "                print(\"Vui lòng nhập số nguyên!\")\n",
    "        \n",
    "        elif chon == \"0\":\n",
    "            print(\"Thoát chương trình.\")\n",
    "            break\n",
    "        else:\n",
    "            print(\"Chức năng không hợp lệ, vui lòng chọn lại.\")\n",
    "\n",
    "# Chạy menu\n",
    "menu()\n"
   ]
  },
  {
   "cell_type": "markdown",
   "id": "e2b41d4a",
   "metadata": {},
   "source": [
    "## Lab 4 - Bài 5: bài tập làm thêm"
   ]
  },
  {
   "cell_type": "code",
   "execution_count": null,
   "id": "0e0172f7",
   "metadata": {},
   "outputs": [],
   "source": [
    "# code lab 4  bài làm thêm ở đây "
   ]
  }
 ],
 "metadata": {
  "kernelspec": {
   "display_name": ".venv (3.13.7)",
   "language": "python",
   "name": "python3"
  },
  "language_info": {
   "codemirror_mode": {
    "name": "ipython",
    "version": 3
   },
   "file_extension": ".py",
   "mimetype": "text/x-python",
   "name": "python",
   "nbconvert_exporter": "python",
   "pygments_lexer": "ipython3",
   "version": "3.13.7"
  }
 },
 "nbformat": 4,
 "nbformat_minor": 5
}
