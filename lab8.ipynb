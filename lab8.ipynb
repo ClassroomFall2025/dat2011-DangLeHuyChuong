{
 "cells": [
  {
   "cell_type": "markdown",
   "id": "fdeff819",
   "metadata": {},
   "source": [
    "# Sinh Viên thực hiện Lab 8 ở Đây"
   ]
  },
  {
   "cell_type": "markdown",
   "id": "acc5d7dc",
   "metadata": {},
   "source": [
    "## Lab 8 - Bài 1"
   ]
  },
  {
   "cell_type": "code",
   "execution_count": null,
   "id": "001e0507",
   "metadata": {},
   "outputs": [],
   "source": [
    "# Code lab 8 bài 1 ở đây\n",
    "họ_tên = input(\"Nhập họ tên: \").strip()\n",
    "ds_tu = họ_tên.split()\n",
    "họ = ds_tu[0].upper()\n",
    "tên = ds_tu[-1]\n",
    "tên_đệm = \" \".join(ds_tu[1:-1])\n",
    "print(f\"Họ: {họ}\")\n",
    "print(f\"Tên đệm: {tên_đệm}\")\n",
    "print(f\"Tên: {tên}\")"
   ]
  },
  {
   "cell_type": "markdown",
   "id": "c0835310",
   "metadata": {},
   "source": [
    "## Lab 8 - Bài 2"
   ]
  },
  {
   "cell_type": "code",
   "execution_count": null,
   "id": "fa9cb39f",
   "metadata": {},
   "outputs": [],
   "source": [
    "# Code lab 8  bài 2 ở đây\n",
    "from kiemtra import nhap_thong_tin_sinh_vien, kiem_tra_thong_tin\n",
    "def main():\n",
    "    sinh_vien = nhap_thong_tin_sinh_vien()\n",
    "    kiem_tra_thong_tin(sinh_vien)\n",
    "main()\n"
   ]
  },
  {
   "cell_type": "markdown",
   "id": "0f2483fe",
   "metadata": {},
   "source": [
    "## Lab 8 - Bài 3"
   ]
  },
  {
   "cell_type": "code",
   "execution_count": null,
   "id": "7034990b",
   "metadata": {},
   "outputs": [],
   "source": [
    "# Code lab 8  bài 3 ở đây\n",
    "import random\n",
    "so_ngau_nhien = [str(random.randint(0, 100)) for _ in range(1_000_000)]\n",
    "with open(\"so_ngau_nhien.txt\", \"w\") as file:\n",
    "    file.write(\" \".join(so_ngau_nhien))\n",
    "\n",
    "print(\"Đã tạo và ghi thành công\")\n"
   ]
  },
  {
   "cell_type": "markdown",
   "id": "d36ea3d3",
   "metadata": {},
   "source": [
    "## Lab 8 - Bài 4"
   ]
  },
  {
   "cell_type": "code",
   "execution_count": 4,
   "id": "4c707ec1",
   "metadata": {},
   "outputs": [
    {
     "name": "stdout",
     "output_type": "stream",
     "text": [
      "Trung bình: 50.028677\n",
      "Độ lệch chuẩn: 29.153661940923914\n"
     ]
    }
   ],
   "source": [
    "# code lab 8 bài 4 ở đây\n",
    "from tinh_toan_thong_ke import doc_du_lieu, tinh_thong_ke\n",
    "# Cách 1:\n",
    "ten_file = \"so_ngau_nhien.txt\"\n",
    "du_lieu = doc_du_lieu(ten_file)\n",
    "trung_binh, do_lech_chuan = tinh_thong_ke(du_lieu)\n",
    "print(f\"Trung bình: {trung_binh}\")\n",
    "print(f\"Độ lệch chuẩn: {do_lech_chuan}\")\n"
   ]
  },
  {
   "cell_type": "code",
   "execution_count": 2,
   "id": "ea981dfc",
   "metadata": {},
   "outputs": [
    {
     "name": "stdout",
     "output_type": "stream",
     "text": [
      "- Trung bình: 50.028677\n",
      "- Độ lệch chuẩn: 29.153661940923914\n"
     ]
    }
   ],
   "source": [
    "from tinh_toan_thong_ke import tinh_thong_ke, doc_du_lieu_iterator\n",
    "# Cách 2:\n",
    "ten_file = \"so_ngau_nhien.txt\"\n",
    "du_lieu_iterator = list(doc_du_lieu_iterator(ten_file))\n",
    "trung_binh_it, do_lech_chuan_it = tinh_thong_ke(du_lieu_iterator)\n",
    "\n",
    "print(f\"- Trung bình: {trung_binh_it}\")\n",
    "print(f\"- Độ lệch chuẩn: {do_lech_chuan_it}\")\n"
   ]
  },
  {
   "cell_type": "markdown",
   "id": "e2b41d4a",
   "metadata": {},
   "source": [
    "## Lab 8 - Bài 5: bài tập làm thêm"
   ]
  },
  {
   "cell_type": "code",
   "execution_count": null,
   "id": "0e0172f7",
   "metadata": {},
   "outputs": [],
   "source": [
    "# code lab 8  bài làm thêm ở đây "
   ]
  }
 ],
 "metadata": {
  "kernelspec": {
   "display_name": "Python (.venv)",
   "language": "python",
   "name": ".venv"
  },
  "language_info": {
   "codemirror_mode": {
    "name": "ipython",
    "version": 3
   },
   "file_extension": ".py",
   "mimetype": "text/x-python",
   "name": "python",
   "nbconvert_exporter": "python",
   "pygments_lexer": "ipython3",
   "version": "3.13.7"
  }
 },
 "nbformat": 4,
 "nbformat_minor": 5
}
