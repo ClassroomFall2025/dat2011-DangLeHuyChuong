{
 "cells": [
  {
   "cell_type": "markdown",
   "id": "fdeff819",
   "metadata": {},
   "source": [
    "# Sinh Viên thực hiện Lab 1 ở Đây"
   ]
  },
  {
   "cell_type": "markdown",
   "id": "acc5d7dc",
   "metadata": {},
   "source": [
    "## Lab 1 - Bài 1"
   ]
  },
  {
   "cell_type": "code",
   "execution_count": 8,
   "id": "001e0507",
   "metadata": {},
   "outputs": [
    {
     "name": "stdout",
     "output_type": "stream",
     "text": [
      "Hello\n",
      "Tôi tên là Chương\n",
      "Quê tôi ở Nha Trang\n"
     ]
    }
   ],
   "source": [
    "print(\"Hello\")\n",
    "print(\"Tôi tên là Chương\")\n",
    "print(\"Quê tôi ở Nha Trang\")"
   ]
  },
  {
   "cell_type": "markdown",
   "id": "c0835310",
   "metadata": {},
   "source": [
    "## Lab 1 - Bài 2"
   ]
  },
  {
   "cell_type": "code",
   "execution_count": null,
   "id": "fa9cb39f",
   "metadata": {},
   "outputs": [
    {
     "name": "stdout",
     "output_type": "stream",
     "text": [
      "Diện tích hình chữ nhật là:  2000\n",
      "Chu vi hình chữ nhật là:  240\n"
     ]
    }
   ],
   "source": [
    "# Bài 2: Viết chương trình nhập từ bàn phím 2 cạnh của hình chữ nhật. Tính và xuất ra màn hình chu vi và diện tích của hình chữ nhật.\n",
    "chieudai = float(input(\"Nhập chiều dài: \"))\n",
    "chieurong = float(input(\"Nhập chiều rộng: \"))\n",
    "dientich = chieudai * chieurong\n",
    "chuvi = (chieudai + chieurong) * 2\n",
    "print(\"Diện tích hình chữ nhật là: \", dientich)\n",
    "print(\"Chu vi hình chữ nhật là: \", chuvi)"
   ]
  },
  {
   "cell_type": "markdown",
   "id": "0f2483fe",
   "metadata": {},
   "source": [
    "## Lab 1 - Bài 3"
   ]
  },
  {
   "cell_type": "code",
   "execution_count": 5,
   "id": "7034990b",
   "metadata": {},
   "outputs": [
    {
     "name": "stdout",
     "output_type": "stream",
     "text": [
      "\"...\n",
      "Sống không giận, không hờn không oán trách\n",
      "Sống mỉm cười, với thử thách chông gai\n",
      "Sống vươn lên, theo kịp ánh ban mai\n",
      "Sống chan hòa, với những người chung sống.\n",
      "\n",
      "Sống là động, nhưng lòng luôn bất động\n",
      "Sống là thương, nhưng lòng chẳng vấn vương\n",
      "Sống yên vui, danh lợi mãi coi thường\n",
      "Tâm bất biến, giữa dòng đời vạn biến.\n",
      "...\"\n"
     ]
    }
   ],
   "source": [
    "#Bài 3: Xuất bài thơ sau ra màn hình:\n",
    "print('\"...')\n",
    "print(f\"Sống không giận, không hờn không oán trách\")\n",
    "print(f\"Sống mỉm cười, với thử thách chông gai\")\n",
    "print(f\"Sống vươn lên, theo kịp ánh ban mai\")\n",
    "print(f\"Sống chan hòa, với những người chung sống.\")\n",
    "\n",
    "print()  # Dòng trống giữa 2 khổ thơ\n",
    "\n",
    "print(f\"Sống là động, nhưng lòng luôn bất động\")\n",
    "print(f\"Sống là thương, nhưng lòng chẳng vấn vương\")\n",
    "print(f\"Sống yên vui, danh lợi mãi coi thường\")\n",
    "print(\"Tâm bất biến, giữa dòng đời vạn biến.\")\n",
    "print('...\"')"
   ]
  },
  {
   "cell_type": "markdown",
   "id": "d36ea3d3",
   "metadata": {},
   "source": [
    "## Lab 1 - Bài 4"
   ]
  },
  {
   "cell_type": "code",
   "execution_count": null,
   "id": "4c707ec1",
   "metadata": {},
   "outputs": [
    {
     "name": "stdout",
     "output_type": "stream",
     "text": [
      "Giá trị delta = -44.0\n",
      "Delta < 0 nên không có căn bậc hai thực\n"
     ]
    }
   ],
   "source": [
    "import math\n",
    "a = float(input(\"Nhập hệ số a: \"))\n",
    "b = float(input(\"Nhập hệ số b: \"))\n",
    "c = float(input(\"Nhập hệ số c: \"))\n",
    "delta = b**2 - 4*a*c\n",
    "print(\"Giá trị delta =\", delta)\n",
    "if delta >= 0:\n",
    "    can_delta = math.sqrt(delta)\n",
    "    print(\"Căn delta =\", can_delta)\n",
    "else:\n",
    "    print(\"Delta < 0 nên không có căn bậc hai thực\")"
   ]
  },
  {
   "cell_type": "markdown",
   "id": "e2b41d4a",
   "metadata": {},
   "source": [
    "## Lab 1 - Bài 5: bài tập làm thêm"
   ]
  },
  {
   "cell_type": "code",
   "execution_count": 12,
   "id": "0e0172f7",
   "metadata": {},
   "outputs": [],
   "source": [
    "# code lab 1  bài làm thêm ở đây "
   ]
  }
 ],
 "metadata": {
  "kernelspec": {
   "display_name": "Python 3",
   "language": "python",
   "name": "python3"
  },
  "language_info": {
   "codemirror_mode": {
    "name": "ipython",
    "version": 3
   },
   "file_extension": ".py",
   "mimetype": "text/x-python",
   "name": "python",
   "nbconvert_exporter": "python",
   "pygments_lexer": "ipython3",
   "version": "3.12.1"
  }
 },
 "nbformat": 4,
 "nbformat_minor": 5
}
