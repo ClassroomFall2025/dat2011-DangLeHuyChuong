{
 "cells": [
  {
   "cell_type": "markdown",
   "id": "fdeff819",
   "metadata": {},
   "source": [
    "# Sinh Viên thực hiện Lab 1 ở Đây"
   ]
  },
  {
   "cell_type": "markdown",
   "id": "acc5d7dc",
   "metadata": {},
   "source": [
    "## Lab 1 - Bài 1"
   ]
  },
  {
   "cell_type": "code",
   "execution_count": 8,
   "id": "001e0507",
   "metadata": {},
   "outputs": [
    {
     "name": "stdout",
     "output_type": "stream",
     "text": [
      "Hello\n",
      "Tôi tên là Chương\n",
      "Quê tôi ở Nha Trang\n"
     ]
    }
   ],
   "source": [
    "print(\"Hello\")\n",
    "print(\"Tôi tên là Chương\")\n",
    "print(\"Quê tôi ở Nha Trang\")"
   ]
  },
  {
   "cell_type": "markdown",
   "id": "c0835310",
   "metadata": {},
   "source": [
    "## Lab 1 - Bài 2"
   ]
  },
  {
   "cell_type": "code",
   "execution_count": null,
   "id": "fa9cb39f",
   "metadata": {},
   "outputs": [
    {
     "name": "stdout",
     "output_type": "stream",
     "text": [
      "Diện tích hình chữ nhật là:  2000\n",
      "Chu vi hình chữ nhật là:  240\n"
     ]
    }
   ],
   "source": [
    "# Bài 2: Viết chương trình nhập từ bàn phím 2 cạnh của hình chữ nhật. Tính và xuất ra màn hình chu vi và diện tích của hình chữ nhật.\n",
    "chieudai = float(input(\"Nhập chiều dài: \"))\n",
    "chieurong = float(input(\"Nhập chiều rộng: \"))\n",
    "dientich = chieudai * chieurong\n",
    "chuvi = (chieudai + chieurong) * 2\n",
    "print(\"Diện tích hình chữ nhật là: \", dientich)\n",
    "print(\"Chu vi hình chữ nhật là: \", chuvi)"
   ]
  },
  {
   "cell_type": "markdown",
   "id": "0f2483fe",
   "metadata": {},
   "source": [
    "## Lab 1 - Bài 3"
   ]
  },
  {
   "cell_type": "code",
   "execution_count": 2,
   "id": "7034990b",
   "metadata": {},
   "outputs": [
    {
     "name": "stdout",
     "output_type": "stream",
     "text": [
      "\"...\n",
      "Sống không giận, không hờn không oán trách\n",
      "Sống mỉm cười, với thử thách chông gai\n",
      "Sống vươn lên, theo kịp ánh ban mai\n",
      "Sống chan hòa, với những người chung sống.\n",
      "\n",
      "Sống là động, nhưng lòng luôn bất động\n",
      "Sống là thương, nhưng lòng chẳng vấn vương\n",
      "Sống yên vui, danh lợi mãi coi thường\n",
      "Tâm bất biến, giữa dòng đời vạn biến.\n",
      "...\"\n"
     ]
    }
   ],
   "source": [
    "#Bài 3: Xuất bài thơ sau ra màn hình:\n",
    "song = \"Sống\"\n",
    "print('\"...')\n",
    "print(f\"{song} không giận, không hờn không oán trách\")\n",
    "print(f\"{song} mỉm cười, với thử thách chông gai\")\n",
    "print(f\"{song} vươn lên, theo kịp ánh ban mai\")\n",
    "print(f\"{song} chan hòa, với những người chung sống.\")\n",
    "\n",
    "print()  # Dòng trống giữa 2 khổ thơ\n",
    "\n",
    "print(f\"{song} là động, nhưng lòng luôn bất động\")\n",
    "print(f\"{song} là thương, nhưng lòng chẳng vấn vương\")\n",
    "print(f\"{song} yên vui, danh lợi mãi coi thường\")\n",
    "print(\"Tâm bất biến, giữa dòng đời vạn biến.\")\n",
    "print('...\"')"
   ]
  },
  {
   "cell_type": "markdown",
   "id": "d36ea3d3",
   "metadata": {},
   "source": [
    "## Lab 1 - Bài 4"
   ]
  },
  {
   "cell_type": "code",
   "execution_count": 13,
   "id": "4c707ec1",
   "metadata": {},
   "outputs": [
    {
     "name": "stdout",
     "output_type": "stream",
     "text": [
      "Giá trị delta = -8.0\n",
      "Căn delta = 2.8284271247461903j\n"
     ]
    }
   ],
   "source": [
    "import math, cmath\n",
    "a = float(input(\"Nhập hệ số a: \"))\n",
    "b = float(input(\"Nhập hệ số b: \"))\n",
    "c = float(input(\"Nhập hệ số c: \"))\n",
    "delta = b**2 - 4*a*c\n",
    "print(\"Giá trị delta =\", delta)\n",
    "print(\"Căn delta =\", cmath.sqrt(delta))"
   ]
  },
  {
   "cell_type": "markdown",
   "id": "e2b41d4a",
   "metadata": {},
   "source": [
    "## Lab 1 - Bài 5: bài tập làm thêm"
   ]
  },
  {
   "cell_type": "code",
   "execution_count": 14,
   "id": "0e0172f7",
   "metadata": {},
   "outputs": [
    {
     "name": "stdout",
     "output_type": "stream",
     "text": [
      "Phép tính cộng: 3\n",
      "Phép tính trừ: -1\n",
      "Phép tính nhân: 2\n",
      "Phép tính chia: 0.5\n",
      "Lũy thừa: 1.0\n",
      "Căn bậc hai của a: 1.0\n",
      "Căn bậc hai của b: 1.4142135623730951\n",
      "Hàm sin: 0.49999999999999994\n",
      "Hàm cos: 0.8660254037844387\n",
      "Hàm tan: 0.5773502691896257\n",
      "Hàm logarit cơ số 10: 0.47712125471966244\n",
      "Hàm logarit cơ số 2 : 1.5849625007211563\n"
     ]
    }
   ],
   "source": [
    "# code lab 1  bài làm thêm ở đây \n",
    "import cmath, math\n",
    "a = int(input(\"Nhập hệ số a: \"))\n",
    "b = int(input(\"Nhập hệ số b: \"))\n",
    "x = int(input(\"Nhập hệ số x: \"))\n",
    "# Phép tính cộng\n",
    "print(\"Phép tính cộng:\", a + b)\n",
    "# Phép tính trừ\n",
    "print(\"Phép tính trừ:\", a - b)\n",
    "# Phép tính nhân\n",
    "print(\"Phép tính nhân:\", a * b)\n",
    "# Phép tính chia\n",
    "print(\"Phép tính chia:\", a / b)\n",
    "# Lũy thừa\n",
    "print(\"Lũy thừa:\", math.pow(a, b))\n",
    "# Căn bậc hai\n",
    "print(\"Căn bậc hai của a:\", math.sqrt(abs(a)))\n",
    "print(\"Căn bậc hai của b:\", math.sqrt(abs(b)))\n",
    "# Hàm lượng giác\n",
    "goc_do = float(input(\"Nhập góc (độ): \"))\n",
    "rad = math.radians(goc_do)\n",
    "print(\"Hàm sin:\", math.sin(rad))\n",
    "print(\"Hàm cos:\", math.cos(rad))\n",
    "print(\"Hàm tan:\", math.tan(rad))\n",
    "# Hàm logarit\n",
    "base = int(input(\"Nhập cơ số (base) > 0: \"))\n",
    "print(\"Hàm logarit cơ số 10:\", math.log10(x))\n",
    "print(\"Hàm logarit cơ số\", base, \":\", math.log(x, base))"
   ]
  }
 ],
 "metadata": {
  "kernelspec": {
   "display_name": "Python 3",
   "language": "python",
   "name": "python3"
  },
  "language_info": {
   "codemirror_mode": {
    "name": "ipython",
    "version": 3
   },
   "file_extension": ".py",
   "mimetype": "text/x-python",
   "name": "python",
   "nbconvert_exporter": "python",
   "pygments_lexer": "ipython3",
   "version": "3.12.1"
  }
 },
 "nbformat": 4,
 "nbformat_minor": 5
}
